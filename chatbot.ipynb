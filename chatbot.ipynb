{
 "cells": [
  {
   "cell_type": "code",
   "execution_count": 2,
   "metadata": {},
   "outputs": [],
   "source": [
    "from dotenv import load_dotenv\n",
    "import streamlit as st\n",
    "import os\n",
    "\n",
    "from langchain_community.vectorstores import VectorStore, FAISS, Chroma\n",
    "from langchain_community.document_loaders import DirectoryLoader, PyPDFLoader, PyPDFDirectoryLoader\n",
    "from langchain_community.llms import HuggingFaceEndpoint\n",
    "\n",
    "from langchain.embeddings import HuggingFaceEmbeddings\n",
    "from langchain.chains.combine_documents import create_stuff_documents_chain\n",
    "from langchain.chains import create_retrieval_chain, create_history_aware_retriever\n",
    "from langchain.chains import QAGenerationChain, ConversationalRetrievalChain\n",
    "from langchain.text_splitter import RecursiveCharacterTextSplitter \n",
    "from langchain.memory import ConversationBufferMemory\n",
    "from langchain.schema.runnable import RunnablePassthrough\n",
    "\n",
    "from langchain_core.prompts import ChatPromptTemplate, MessagesPlaceholder, PromptTemplate\n",
    "from langchain_core.messages import HumanMessage, AIMessage\n",
    "from langchain_core.output_parsers import StrOutputParser\n",
    "\n"
   ]
  },
  {
   "cell_type": "code",
   "execution_count": 5,
   "metadata": {},
   "outputs": [],
   "source": [
    "# template\n",
    "template = \"\"\"\n",
    "You are an interviewer for crime investigations. You are interviewing a witness to a crime regarding what they \n",
    "have witnessed. Which questions and the way you will ask these will be according to the following principles:\n",
    "{context}\n",
    "\n",
    "First you will give a brief overview of how the interview will go. Then you will ask the witness for their personal information:\n",
    "1. What is your full name, date of birth, and place of birth?\n",
    "2. What is your current address and city of residence?\n",
    "3. What is your pasport number / ID number?\n",
    "\n",
    "Only continue to the next question when a full answer in given to the previous question.\n",
    "\n",
    "Before starting the interview, give the witness the instructions as specifified in {context}. Afterwards,\n",
    "ask the witness to describe the events they witnessed:\n",
    "1. What did you see and hear?\n",
    "2. Where and when was this?\n",
    "3. Ask the witness to describe the people involved.\n",
    "\n",
    "For each question, the witness will respond with a response {input}. Ask the witness to elaborate if the response is not detailed enough.\n",
    "At every stage, check for inconsistencies in the witness's story and ask for clarification if needed.\n",
    "Use {chat_history} to keep track of the conversation.\n",
    "\n",
    "\"\"\""
   ]
  },
  {
   "cell_type": "code",
   "execution_count": 3,
   "metadata": {},
   "outputs": [],
   "source": [
    "class Interviewer:\n",
    "    def __init__(self):\n",
    "        self.retriever = None\n",
    "\n",
    "    def set_retriever(self):\n",
    "        # get documents from data folder\n",
    "        loader = PyPDFDirectoryLoader('data')\n",
    "        documents = loader.load()\n",
    "\n",
    "        # split documents into chunks\n",
    "        text_splitter = RecursiveCharacterTextSplitter(chunk_size=400, chunk_overlap=50)\n",
    "        texts = text_splitter.split_documents(documents)\n",
    "\n",
    "        # create retriever\n",
    "        embeddings = HuggingFaceEmbeddings(model_name='sentence-transformers/all-MiniLM-L6-v2')\n",
    "        vector_store = FAISS.from_documents(texts, embeddings)\n",
    "        retriever = vector_store.as_retriever()\n",
    "        self.retriever = retriever\n",
    "\n",
    "    def get_conversation_chain(self):\n",
    "        llm = HuggingFaceEndpoint(repo_id=\"mistralai/Mistral-7B-Instruct-v0.2\") # choose llm from huggingface\n",
    "        prompt_template = ChatPromptTemplate.from_template(template) # create prompt template\n",
    "        # create conversation chain with memory\n",
    "        # memory = ConversationBufferMemory(memory_key='chat_history', return_messages=True)\t\n",
    "        conversation_chain = create_history_aware_retriever(\n",
    "            llm=llm,\n",
    "            retriever=self.retriever,\n",
    "            prompt=prompt_template\n",
    "        )\n",
    "        return conversation_chain\n"
   ]
  },
  {
   "cell_type": "code",
   "execution_count": 6,
   "metadata": {},
   "outputs": [
    {
     "name": "stdout",
     "output_type": "stream",
     "text": [
      "Token has not been saved to git credential helper. Pass `add_to_git_credential=True` if you want to set the git credential as well.\n",
      "Token is valid (permission: write).\n",
      "Your token has been saved to C:\\Users\\moolhuijsenns\\.cache\\huggingface\\token\n",
      "Login successful\n"
     ]
    }
   ],
   "source": [
    "bot = Interviewer()\n",
    "bot.set_retriever()\n",
    "chain = bot.get_conversation_chain()"
   ]
  },
  {
   "cell_type": "code",
   "execution_count": 8,
   "metadata": {},
   "outputs": [
    {
     "data": {
      "text/plain": [
       "[Document(page_content='obtain and review as much evidence or information as is available – such as witness and \\nvictim statements already taken, prior statements by a suspect, forensic reports, physical \\nevidence, and electronic images and information. Interviewers should assess the relevance \\nand reliability of the available information and identify information gaps that need to be', metadata={'source': 'data\\\\Mendez-Principles.pdf', 'page': 32}),\n",
       " Document(page_content='have the impression that their concern has not been met with the appropriate response.\\n184. Anyone reporting a violation, such as a ‘whistle-blower’, should be provided adequate \\nprotection from any form of reprisals or negative treatment.\\n185. Other criminal justice professionals such as lawyers, prosecutors and judges who see, hear', metadata={'source': 'data\\\\Mendez-Principles.pdf', 'page': 47}),\n",
       " Document(page_content='• Have you covered the points needed to prove the \\noffence(s) in question?\\nNew Information\\nYou should consider:\\n• What new information do you now have?\\n• Is it consistent with evidence already obtained?\\n• Are there any conflicts to be resolved?\\n• What further enquiries do you need to make?\\nRe-evaluate the Evidence in this Investigation \\nThe above questions will assist you to assess what impact', metadata={'source': 'data\\\\PEACE-A-Different-Approach.pdf', 'page': 15}),\n",
       " Document(page_content='offences rates, record a fuller picture of offending for \\npossible use in future cases or to support applications \\nfor anti-social behavior orders, or other restrictive orders.\\n Prosecution  – has a fuller and more accurate picture \\nof, for example, the offender’s criminal history when \\nconsidering the public interest test, bail decisions, bad', metadata={'source': 'data\\\\PEACE-A-Different-Approach.pdf', 'page': 4})]"
      ]
     },
     "execution_count": 8,
     "metadata": {},
     "output_type": "execute_result"
    }
   ],
   "source": [
    "chain.invoke({\"input\": \"Hello, I am a witness to a crime and I would like to report what I have seen.\"})"
   ]
  }
 ],
 "metadata": {
  "kernelspec": {
   "display_name": "venv",
   "language": "python",
   "name": "python3"
  },
  "language_info": {
   "codemirror_mode": {
    "name": "ipython",
    "version": 3
   },
   "file_extension": ".py",
   "mimetype": "text/x-python",
   "name": "python",
   "nbconvert_exporter": "python",
   "pygments_lexer": "ipython3",
   "version": "3.11.1"
  }
 },
 "nbformat": 4,
 "nbformat_minor": 2
}
