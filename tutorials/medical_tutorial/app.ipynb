{
 "cells": [
  {
   "cell_type": "code",
   "execution_count": null,
   "metadata": {},
   "outputs": [],
   "source": [
    "! pip install pypdf"
   ]
  },
  {
   "cell_type": "code",
   "execution_count": 21,
   "metadata": {},
   "outputs": [],
   "source": [
    "from langchain_community.document_loaders import PyPDFDirectoryLoader\n",
    "from langchain_community.llms import HuggingFaceEndpoint\n",
    "from langchain_community.embeddings import HuggingFaceEmbeddings\n",
    "\n",
    "from langchain.text_splitter import CharacterTextSplitter,RecursiveCharacterTextSplitter\n",
    "from langchain.vectorstores import FAISS, Chroma\n",
    "from langchain.chains import RetrievalQA, LLMChain\n",
    "\n",
    "from langchain.schema.runnable import RunnablePassthrough\n",
    "from langchain.schema.output_parser import StrOutputParser\n",
    "from langchain.prompts import ChatPromptTemplate\n",
    "\n",
    "import pathlib\n",
    "import os\n",
    "import textwrap\n",
    "from dotenv import load_dotenv\n",
    "from IPython.display import display\n",
    "from IPython.display import Markdown\n"
   ]
  },
  {
   "cell_type": "code",
   "execution_count": 5,
   "metadata": {},
   "outputs": [],
   "source": [
    "def to_markdown(text):\n",
    "  text = text.replace('•', '  *')\n",
    "  return Markdown(textwrap.indent(text, '> ', predicate=lambda _: True))"
   ]
  },
  {
   "cell_type": "code",
   "execution_count": 6,
   "metadata": {},
   "outputs": [],
   "source": [
    "# import documents\n",
    "loader = PyPDFDirectoryLoader(\"data\")\n",
    "docs = loader.load()"
   ]
  },
  {
   "cell_type": "code",
   "execution_count": 7,
   "metadata": {},
   "outputs": [],
   "source": [
    "# document handling: text splitting - embeddings - vector stores\n",
    "# text splitting\n",
    "text_splitter = RecursiveCharacterTextSplitter()\n",
    "chunks = text_splitter.split_documents(docs)\n",
    "\n",
    "# embeddings\n",
    "# embeddings = GPT4AllEmbeddings()    # fast\n",
    "embeddings = HuggingFaceEmbeddings(model_name=\"BAAI/bge-base-en-v1.5\")\n",
    "\n",
    "# vector stores\n",
    "vectorstore = Chroma.from_documents(chunks, embeddings)"
   ]
  },
  {
   "cell_type": "code",
   "execution_count": 8,
   "metadata": {},
   "outputs": [
    {
     "data": {
      "text/plain": [
       "[Document(page_content='brain (includes stroke)\\nRenal artery stenosis\\nAortic aneurysm\\nThere are also many cardiovascular diseases that involve the heart.\\nCardiomyopathy – diseases of cardiac muscle\\nHypertensive heart disease – diseases of the heart secondary to high blood\\npressure or hypertension\\nHeart failure - a clinical syndrome caused by the inability of the heart to supply\\nsufficient blood to the tissues to meet their metabolic requirementsTypes', metadata={'page': 0, 'source': 'data\\\\Cardiovascular_disease.pdf'}),\n",
       " Document(page_content=\"Cardiovascular disease\\nMicrograph of a heart with fibrosis\\n(yellow) and amyloidosis (brown).\\nMovat's stain.\\nSpecialty Cardiology\\nSymptoms Chest pain,\\nshortness of breath,\\nfatigue, loss of\\nconsciousness\\nComplicationsHeart failure, heart\\nattack, stroke,\\naneurysm,\\nperipheral artery\\ndisease, sudden\\ncardiac arrest.[1]\\nUsual onset Older adults[2]\\nTypes Coronary artery\\ndiseases, stroke,\\nheart failure,\\nhypertensive heart\\ndisease, rheumatic\\nheart disease,\\ncardiomyopathy,[3][4]\\nArrhythmia\\nRisk factors Diabetes,[3] high\\nblood lipids, excess\\nweight, Smoking,\\nexcessive drug use,\\nand excessive\\nalcohol intake\\nPrevention Healthy eating,\\nexercise, avoiding\\ntobacco smoke,\\nlimited alcohol\\nintake,[3] Overall\\nlifestyle changes\\nTreatment Treating high blood\\npressure, high\\nblood lipids,\\ndiabetes[3]\\nMedication Aspirin, beta\\nblockers, bloodCardiovascular disease\\nCardiovas cular disease (CVD) is any disease involving the heart or blood vessels.[3]\\nCVDs constitute a class of diseases that includes: coronary artery diseases (e.g. angina, heart\\nattack), heart failure, hype rtensive heart disease, rheumatic heart disease, cardiomyopa thy,\\narrhythmia, conge nital heart disease, valvular heart disease, carditis, aortic aneurysms,\\nperipheral artery disease, thromboembolic disease, and venous thrombosis.[3][4]\\nThe underlying mechanisms vary depending on the disease.[3] It is estimated that dietary risk\\nfactors are associated with 53% of CVD deaths.[6] Coronary artery disease, stroke, and\\nperipheral artery disease involve atherosclerosis.[3] This may be caused by high blood\\npressure, smoking, diabetes mellitus, lack of exercise, obesity, high blood cholesterol, poor\\ndiet, excessive alcohol consumption,[3] and poor sleep,[7][8] among other things. High blood\\npressure is estimated to account for approximately 13% of CVD deaths, while tobacco\\naccounts for 9%, diabetes 6%, lack of exercise 6%, and obesity 5%.[3] Rheumatic heart\\ndisease may follow untreated strep throat.[3]\\nIt is estimated that up to 90% of CVD may be preventable.[9][10] Prevention of CVD\\ninvolves improving risk factors through : healthy eating, exercise, avoidance of tobacco\\nsmoke and limiting alcohol intake.[3] Treating risk factors, such as high blood pressure,\\nblood lipids and diabetes is also beneficial.[3] Treating people who have strep throat with\\nantibiotics can decrease the risk of rheumatic heart disease.[11] The use of aspirin in people\\nwho are otherwise healthy is of unclear benefit.[12][13]\\nCardiovascular diseases are the leading cause of death worldwide except Africa.[3] Together\\nCVD resulted in 17.9 million deaths (32.1% ) in 2015, up from 12.3 million (25.8% ) in\\n1990.[5][4] Deaths, at a given age, from CVD are more common and have been increasing in\\nmuch of the developing world, while rates have declined in most of the developed world\\nsince the 1970s .[14][15] Coronary artery disease and stroke account for 80% of CVD deaths\\nin males and 75% of CVD deaths in females.[3] Most cardiovascular disease affects older\\nadults. In the United States 11% of people between 20 and 40 have CVD, while 37%\\nbetween 40 and 60, 71% of people between 60 and 80, and 85% of people over 80 have\\nCVD.[2] The average age of death from coronary artery disease in the developed world is\\naround 80, while it is around 68 in the developing world.[14] CVD is typically diagnosed\\nseven to ten years earlier in men than in women.[3]: 48 \\nThere are many cardiovascular diseases involving the blood vessels. They are know n as\\nvascular diseases.\\nCoronary artery disease (coronary heart disease or ischemic heart disease)\\nPeripheral arterial disease - a disease of blood vessels that supply blood to the\\narms and legs\\nCerebrovascular disease - a disease of blood vessels that supply blood to the\\nbrain (includes stroke)\\nRenal artery stenosis\\nAortic aneurysm\\nThere are also many cardiovascular diseases that involve the heart.\\nCardiomyopathy – diseases of cardiac muscle\", metadata={'page': 0, 'source': 'data\\\\Cardiovascular_disease.pdf'}),\n",
       " Document(page_content=\"thinners\\nDeaths 17.9 million / 32%\\n(2015)[5]\\nDisability-adjusted life year for inflammatory heart\\ndiseases per 100,000 inhabitants in 2004[16]\\n  No data\\n  Less than 70\\n  70–140\\n  140–210\\n  210–280\\n  280–350\\n  350–420  420–490\\n  490–560\\n  560–630\\n  630–700\\n  700–770\\n  More than 770\\nCalcified heart of an older woman\\nwith cardiomegalyPulmonary heart disease – a failure at the right side of the heart with respiratory\\nsystem involvement\\nCardiac dysrhythmias – abnormalities of heart rhythm\\nInflammatory heart diseases\\nEndocarditis – inflammation of the inner layer of the heart, the\\nendocardium. The structures most commonly involved are the\\nheart valves.\\nInflammatory cardiomegaly\\nMyocarditis – inflammation of the myocardium, the muscular part\\nof the heart, caused most often by viral infection and less often\\nby bacterial infections, certain medications, toxins, and\\nautoimmune disorders. It is characterized in part by infiltration of\\nthe heart by lymphocyte and monocyte types of white blood\\ncells.\\nEosinophilic myocarditis - inflammation of the myocardium\\ncaused by pathologically activated eosinophilic white blood\\ncells. This disorder differs from myocarditis in its causes and\\ntreatments.\\nValvular heart disease\\nCongenital heart disease – heart structure malformations existing at\\nbirth\\nRheumatic heart disease – heart muscles and valves damage due\\nto rheumatic fever caused by Streptococcus pyogenes a group A streptococcal infection.\\nThere are many risk factors for heart diseases: age, sex, tobacco use, physical inactivity, non-alcoholic fatty liver disease, excessive\\nalcohol consumption, unhe althy diet, obesity, genetic predisposition and family history of cardiovascular disease, raised blood pressure\\n(hype rtension), raised blood sugar (diabetes mellitus), raised blood cholesterol (hype rlipidemia), undiagnosed celiac disease,\\npsychosocial factors, pove rty and low educational status, air pollution, and poor sleep.[3][17][18][19][20][21] While the individual\\ncontribution of each risk factor varies between different communities or ethnic groups the overall contribution of these risk factors is\\nvery consistent.[22] Some of these risk factors, such as age, sex or family history/genetic predisposition, are immutable; however, many\\nimportant cardiovascular risk factors are modifiable by lifestyle change, social change, drug treatment (for example prevention of\\nhype rtension, hype rlipidemia, and di abetes).[23] People with obe sity are at increased risk of atherosclerosis of the coronary arteries.[24]\\nCardiovascular disease in a person's parents increases their risk by ~3 fold,[25] and genetics is an important risk factor for\\ncardiovascular diseases. Genetic cardiovascular disease can occur either as a consequence of single variant (Mendelian) or polygenic\\ninfluences.[26] There are more than 40 inherited cardiovascular disease that can be traced to a single disease-causing DNA variant,\\nalthough t hese conditions are rare.[26] Most common cardiovascular diseases are non- Mendelian and are thought  to be due to hundr eds\\nor thousands of genetic variants (know n as single nucleotide polymorphisms), each associated with a small effect.[27][28]\\nAge is the most important risk factor in developing cardiovascular or heart diseases, with\\napproximately a tripling of risk with each decade of life.[29] Coronary fatty streaks can begin\\nto form in adolescence.[30] It is estimated that 82 percent of people who die of coronary heart\\ndisease are 65 and older.[31] Simultaneously, the risk of stroke doubl es every decade after age\\n55.[32]\\nMultiple explanations are proposed to explain why age increases the risk of\\ncardiovascular/heart diseases. One of them relates to serum cholesterol level.[33] In most\\npopul ations, the serum total cholesterol level increases as age increases. In men, this increase\\nlevels off around age 45 to 50 years. In women, the increase continues sharply until age 60 to\\n65 ye ars.[33]Risk factors\\nGenetics\\nAge\", metadata={'page': 1, 'source': 'data\\\\Cardiovascular_disease.pdf'}),\n",
       " Document(page_content=\"It is estimated that 60% of the world's cardiovascular disease burden will occur in\\nthe South Asian subcontinent despite only accounting for 20% of the world's\\npopul ation. This may be seconda ry to a combination of genetic predisposition and\\nenvironmental factors. Organizations such as the Indian Heart Association are\\nworking w ith the World Heart Federation to raise awareness about this issue.[196]\\nThere is evidence that cardiovascular disease existed in pre-history,[197] and research into cardiovascular disease dates from at least the\\n18th century.[198] The causes, prevention, and/or treatment of all forms of cardiovascular disease remain active fields of biomedical\\nresearch, with hundr eds of scientific studies being publ ished on a  weekly basis.Dietary supplements\\nManagement\\nEpidemiology\\nResearch\", metadata={'page': 8, 'source': 'data\\\\Cardiovascular_disease.pdf'}),\n",
       " Document(page_content='that associations between moderate alcohol consumption and protection from stroke are non-causal.[50] At the popul ation level, the\\nhealth risks of drinking alcohol exceed any pot ential benefits.[3][51]\\nUntreated celiac disease can cause the development of many types of cardiovascular diseases, most of which improve or resolve with a\\ngluten-free diet and intestinal healing. However, delays in recognition and diagnosis of celiac disease can cause irreversible heart\\ndamage.[20]\\nA lack of good s leep, in amount or quality, is documented as increasing cardiovascular risk in bot h adults and teens. Recommendations\\nsugge st that Infants typically need 12 or more hours of sleep per day, adolescent at least eight or nine hours, and adults seven or eight.\\nAbout one-third of adult Americans get less than the recommended seven hours of sleep per night, and in a study of teenagers, just 2.2\\npercent of those studied got enough sleep, many of whom did not get good quality sleep. Studies have shown that short sleepers\\ngetting less than seven hour s sleep per night have a 10 pe rcent to 30 pe rcent higher risk of cardiovascular disease.[7][52]\\nSleep disorders such as sleep-disordered breathing and insomnia, are also associated with a higher cardiometabolic risk.[53] An\\nestimated 50 t o 70 m illion Americans have insomnia, sleep apnea or other chronic sleep disorders.\\nIn addition, sleep research displays differences in race and class. Short sleep and poor sleep tend to be more frequently reported in\\nethnic minorities than in whites. African-Americans report experiencing short durations of sleep five times more often than whites,\\npossibly as a result of social and environmental factors. Black children and children living in disadvantaged neighbor hoods  have much\\nhigher rates of sleep apnea.[8]\\nCardiovascular disease affects low- and middle-income countries even more than high-income countries.[54] There is relatively little\\ninformation regarding social patterns of cardiovascular disease within low- and middle-income countries,[54] but within high-income\\ncountries low income and low educational status are consistently associated with greater risk of cardiovascular disease.[55] Policies that\\nhave resulted in increased socio-econom ic inequalities have been associated with greater subsequent socio-econom ic differences in\\ncardiovascular disease[54] implying a cause and effect relationship. Psychosocial factors, environmental exposures, health behaviours,\\nand health-care access and quality contribute to socio-econom ic differentials in cardiovascular disease.[56] The Commission on Social\\nDeterminants of Health recommended that more equal distributions of power, wealth, education, housing, environmental factors,\\nnutrition, a nd he alth care were needed to address inequalities in cardiovascular disease and non- communicable diseases.[57]\\nParticulate matter has been studied for its short- and long-term exposure effects on cardiovascular disease. Currently, airborne particles\\nunde r 2.5 micrometers in diameter (PM2.5) are the major focus, in which gradients are used to determine CVD risk. Overall, long-term\\nPM exposure increased rate of atherosclerosis and inflammation. In regards to short-term exposure (2 hours), every 25 μg/m3 of PM2.5\\nresulted in a 48% increase of CVD mortality risk.[58] In addition, after only 5 days of exposure, a rise in systolic (2.8 mmHg) and\\ndiastolic (2.7 mmHg) blood pressure occurred for every 10.5 μg/m3 of PM2.5.[58] Other research has implicated PM2.5 in irregular\\nheart rhythm, reduced heart rate variability (decreased vagal tone), and most notably heart failure.[58][59] PM2.5 is also linked to\\ncarotid artery thickening and increased risk of acute myocardial infarction.[58][59]\\nExisting cardiovascular disease or a previous cardiovascular event, such as a heart attack or stroke, is the stronge st predictor of a future', metadata={'page': 3, 'source': 'data\\\\Cardiovascular_disease.pdf'})]"
      ]
     },
     "execution_count": 8,
     "metadata": {},
     "output_type": "execute_result"
    }
   ],
   "source": [
    "# retriever + example query\n",
    "\n",
    "# example query\n",
    "query = \"What is a cause of heart disease?\"\n",
    "search = vectorstore.similarity_search(query)\n",
    "\n",
    "to_markdown(search[0].page_content)\n",
    "\n",
    "# retriever \n",
    "retriever = vectorstore.as_retriever(search_kwargs={\"k\": 5})\n",
    "retriever.get_relevant_documents(query)"
   ]
  },
  {
   "cell_type": "code",
   "execution_count": 67,
   "metadata": {},
   "outputs": [
    {
     "name": "stdout",
     "output_type": "stream",
     "text": [
      "Token has not been saved to git credential helper. Pass `add_to_git_credential=True` if you want to set the git credential as well.\n",
      "Token is valid (permission: write).\n",
      "Your token has been saved to C:\\Users\\moolhuijsenns\\.cache\\huggingface\\token\n",
      "Login successful\n"
     ]
    }
   ],
   "source": [
    "# LLM\n",
    "llm = HuggingFaceEndpoint(\n",
    "    repo_id=\"mistralai/Mistral-7B-Instruct-v0.2\")\n",
    "\n",
    "# mistralai/Mistral-7B-Instruct-v0.2    very nice"
   ]
  },
  {
   "cell_type": "code",
   "execution_count": 68,
   "metadata": {},
   "outputs": [],
   "source": [
    "# RAG chain\n",
    "\n",
    "# template \n",
    "template = \"\"\"\n",
    "You are an AI assistant that follows instruction extremely well.\n",
    "Please be truthful and give direct answers based on the context:\n",
    "{context}\n",
    "\n",
    "\n",
    "Question: {question}\n",
    "\n",
    "\"\"\"\n",
    "# prompt\n",
    "prompt = ChatPromptTemplate.from_template(template)\n",
    "\n",
    "# chain\n",
    "rag_chain = (\n",
    "    {\"context\": retriever,  \"question\": RunnablePassthrough()}\n",
    "    | prompt\n",
    "    | llm\n",
    "    | StrOutputParser()\n",
    ")\n"
   ]
  },
  {
   "cell_type": "code",
   "execution_count": 69,
   "metadata": {},
   "outputs": [
    {
     "data": {
      "text/markdown": [
       ">  Heart disease, also known as cardiovascular disease, has several risk factors. Here are the most common ones:\n",
       "> \n",
       ">  1. High Blood Pressure: If your blood pressure is consistently high, it puts extra strain on your heart and blood vessels.\n",
       "> \n",
       ">  2. High Cholesterol: Cholesterol builds up in and around your arteries, narrowing them and making it harder for blood to flow through.\n",
       "> \n",
       ">  3. Smoking: Smoking damages the lining of your arteries, making them less flexible and more prone to blockages.\n",
       "> \n",
       ">  4. Diabetes: Diabetes damages the blood vessels and the smaller blood vessels that a heart needs.\n",
       "> \n",
       ">  5. Obesity and Overweight: Having too much body weight, especially if you carry it around your waist, can put extra stress on your heart.\n",
       "> \n",
       ">  6. Physical Inactivity: Lack of regular physical activity can increase the risk of heart disease and stroke.\n",
       "> \n",
       ">  7. Unhealthy Diet: A diet high in saturated fat, trans fat, sodium, and added sugars can contribute to heart disease.\n",
       "> \n",
       ">  8. Family History: If heart disease runs in your family, you may be more likely to develop it.\n",
       "> \n",
       ">  9. Age: The older you get, the higher your risk of heart disease.\n",
       "> \n",
       ">  10. Stress: Chronic stress can damage your arteries and worsen other heart disease risk factors such as obesity and smoking.\n",
       "> \n",
       ">  11. Excessive Alcohol: Drinking too much alcohol can lead to high blood pressure, obesity, and other conditions that increase the risk of heart disease.\n",
       "> \n",
       ">  12. Sedentary Lifestyle: Spending most of your time sitting or lying down can increase your risk of heart disease.\n",
       "> \n",
       ">  Remember, it's important to discuss any concerns or potential risk factors with your healthcare provider."
      ],
      "text/plain": [
       "<IPython.core.display.Markdown object>"
      ]
     },
     "execution_count": 69,
     "metadata": {},
     "output_type": "execute_result"
    }
   ],
   "source": [
    "response = rag_chain.invoke(\"what are the risk factors for heart disease?\")\n",
    "to_markdown(response)"
   ]
  },
  {
   "cell_type": "code",
   "execution_count": null,
   "metadata": {},
   "outputs": [],
   "source": []
  }
 ],
 "metadata": {
  "kernelspec": {
   "display_name": "venv",
   "language": "python",
   "name": "python3"
  },
  "language_info": {
   "codemirror_mode": {
    "name": "ipython",
    "version": 3
   },
   "file_extension": ".py",
   "mimetype": "text/x-python",
   "name": "python",
   "nbconvert_exporter": "python",
   "pygments_lexer": "ipython3",
   "version": "3.11.1"
  }
 },
 "nbformat": 4,
 "nbformat_minor": 2
}
